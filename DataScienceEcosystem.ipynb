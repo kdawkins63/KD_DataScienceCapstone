{
 "cells": [
  {
   "cell_type": "markdown",
   "id": "7e3a3c5f-0474-4876-ac5f-fb93f7722894",
   "metadata": {},
   "source": [
    "# Data Science Tools and Ecosystem"
   ]
  },
  {
   "cell_type": "markdown",
   "id": "0ce32b16-4741-4056-a0b5-dc2151501bbe",
   "metadata": {},
   "source": [
    "## In this notebook, Data Science Tools and Ecosystem are summarized"
   ]
  },
  {
   "cell_type": "markdown",
   "id": "fdc48951-1f6d-49df-a5a9-7f6e34807a8f",
   "metadata": {
    "tags": []
   },
   "source": [
    "**Objectives:**\n",
    "    \n",
    "    - Using the Code and Markdown cells in Jupyter Notebook\n",
    "    - 3 popular languages for Data Science are Python, R and SQL\n",
    "    - 3 commonly used libraries are Pandas Matplotlib and Scikit-learn\n",
    "    - Formatting text in bold, italics, ordered and unordered list and creating tables\n",
    "    - Shutting down sessions in Jupyter Notebook"
   ]
  },
  {
   "cell_type": "markdown",
   "id": "2d56c629-1ee1-44b0-9382-bb27689e08d0",
   "metadata": {},
   "source": [
    "## Some of the popular languages that Data Scientists use are:\n",
    "\n",
    "1. Python\n",
    "2. R\n",
    "3. SQL\n",
    "4. Scala\n",
    "5. Java\n",
    "6. C++\n",
    "7. Julia"
   ]
  },
  {
   "cell_type": "markdown",
   "id": "2303d180-d3f3-444c-8a39-f9a9d032e55f",
   "metadata": {},
   "source": [
    "## Some of the commonly used libraries used by Data Scientists include:\n",
    "\n",
    "1. Pandas\n",
    "2. NumPy\n",
    "3. Matplotlib\n",
    "4. Seaborn\n",
    "5. Scikit-learn\n",
    "6. Keras\n",
    "7. TensorFlow\n",
    "8. Pytorch\n",
    "9. Apache Spark\n",
    "\n",
    "\n"
   ]
  },
  {
   "cell_type": "markdown",
   "id": "52d59d60-27af-4b38-899b-f423214c7634",
   "metadata": {},
   "source": [
    "| Data Science Tools |\n",
    "|------------------- |\n",
    "| Jupyter Lab |\n",
    "| R |\n",
    "| Apache Zeppelin |\n",
    "\n"
   ]
  },
  {
   "cell_type": "markdown",
   "id": "005ce6c4-20b9-4a71-97b8-dce6236d1b5b",
   "metadata": {},
   "source": [
    "### Below are a few examples of evaluating arithmetic expressions in Python."
   ]
  },
  {
   "cell_type": "code",
   "execution_count": 23,
   "id": "d4b2333f-085d-4e77-8da2-8f0fb49457b4",
   "metadata": {
    "tags": []
   },
   "outputs": [
    {
     "name": "stdout",
     "output_type": "stream",
     "text": [
      "This is a simple arithmetic expression to multiply then add integers.\n"
     ]
    },
    {
     "data": {
      "text/plain": [
       "17"
      ]
     },
     "execution_count": 23,
     "metadata": {},
     "output_type": "execute_result"
    }
   ],
   "source": [
    "# This is a simple arithmetic expression to multiply then add integers.\n",
    "print(\"This is a simple arithmetic expression to multiply then add integers.\")\n",
    "(3*4)+5\n"
   ]
  },
  {
   "cell_type": "code",
   "execution_count": 26,
   "id": "ab2ff9d1-c6d5-4108-8f73-2f002b80253e",
   "metadata": {
    "tags": []
   },
   "outputs": [
    {
     "name": "stdout",
     "output_type": "stream",
     "text": [
      "This will convert 200 minutes to hours by dividing by 60.\n"
     ]
    },
    {
     "data": {
      "text/plain": [
       "3.3333333333333335"
      ]
     },
     "execution_count": 26,
     "metadata": {},
     "output_type": "execute_result"
    }
   ],
   "source": [
    "# This will convert 200 minutes to hours by dividing by 60.\n",
    "print(\"This will convert 200 minutes to hours by dividing by 60.\")\n",
    "200/60"
   ]
  },
  {
   "cell_type": "markdown",
   "id": "310c3f5e-6b01-4d10-b069-0755b9faeb0a",
   "metadata": {},
   "source": [
    "## Author\n",
    "Katrina Dawkins"
   ]
  },
  {
   "cell_type": "code",
   "execution_count": null,
   "id": "3e0d0075-8007-4349-a87a-b1efe8beb4ab",
   "metadata": {},
   "outputs": [],
   "source": []
  }
 ],
 "metadata": {
  "kernelspec": {
   "display_name": "Python",
   "language": "python",
   "name": "conda-env-python-py"
  },
  "language_info": {
   "codemirror_mode": {
    "name": "ipython",
    "version": 3
   },
   "file_extension": ".py",
   "mimetype": "text/x-python",
   "name": "python",
   "nbconvert_exporter": "python",
   "pygments_lexer": "ipython3",
   "version": "3.7.12"
  }
 },
 "nbformat": 4,
 "nbformat_minor": 5
}
